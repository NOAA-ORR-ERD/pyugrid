{
 "cells": [
  {
   "cell_type": "markdown",
   "metadata": {},
   "source": [
    "<img style='float: left' width=\"150px\" src=\"https://raw.githubusercontent.com/ugrid-conventions/ugrid-conventions/master/src/images/triangles.png\">\n",
    "<br><br>\n",
    "\n",
    "## Notebook examples for `pyugrid`"
   ]
  },
  {
   "cell_type": "markdown",
   "metadata": {},
   "source": [
    "- [Simple plotting](plotting_example.ipynb)\n",
    "- [Vector plotting](vector_plotting_example.ipynb)\n",
    "- [Interoperability: ADCIRC, SELFE and FVCOM](COMT_example.ipynb)\n",
    "- [Mesh connectivity](connectivity_example.ipynb)"
   ]
  }
 ],
 "metadata": {
  "kernelspec": {
   "display_name": "Python 2",
   "language": "python",
   "name": "python2"
  },
  "language_info": {
   "codemirror_mode": {
    "name": "ipython",
    "version": 2
   },
   "file_extension": ".py",
   "mimetype": "text/x-python",
   "name": "python",
   "nbconvert_exporter": "python",
   "pygments_lexer": "ipython2",
   "version": "2.7.11"
  }
 },
 "nbformat": 4,
 "nbformat_minor": 0
}
